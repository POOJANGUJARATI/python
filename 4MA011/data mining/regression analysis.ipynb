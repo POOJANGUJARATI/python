{
 "cells": [
  {
   "cell_type": "code",
   "execution_count": 16,
   "metadata": {},
   "outputs": [],
   "source": [
    "import numpy as np\n",
    "import matplotlib.pyplot as plt\n",
    "from sklearn.linear_model import LinearRegression\n",
    "from sklearn.metrics import mean_squared_error, r2_score"
   ]
  },
  {
   "cell_type": "code",
   "execution_count": 17,
   "metadata": {},
   "outputs": [],
   "source": [
    "lst1 = [[27.75],[24.5],[25.5],[26],[25],[27.75],[26.5],[27],[26.75],[26.75],[27.5]];\n",
    "lst2 = [[17.5],[17.1],[17.1],[17.3],[16.9],[17.6],[17.3],[17.5],[17.3],[17.5],[17.5]];\n"
   ]
  },
  {
   "cell_type": "code",
   "execution_count": 18,
   "metadata": {},
   "outputs": [
    {
     "name": "stdout",
     "output_type": "stream",
     "text": [
      "Slope: [[0.18273245]]\n",
      "Intercept: [12.49316888]\n",
      "Root mean squared error:  0.007443936518889103\n",
      "R2 score:  0.8300535247574377\n"
     ]
    }
   ],
   "source": [
    "#np.random.seed[0];\n",
    "regression_model = LinearRegression();\n",
    "regression_model.fit(lst1, lst2);\n",
    "y_predicted = regression_model.predict(lst1);\n",
    "\n",
    "\n",
    "rmse = mean_squared_error(lst2, y_predicted)\n",
    "r2 = r2_score(lst2, y_predicted)\n",
    "\n",
    "\n",
    "print('Slope:' ,regression_model.coef_)\n",
    "print('Intercept:', regression_model.intercept_)\n",
    "print('Root mean squared error: ', rmse)\n",
    "print('R2 score: ', r2)\n",
    "\n"
   ]
  },
  {
   "cell_type": "code",
   "execution_count": 9,
   "metadata": {},
   "outputs": [
    {
     "data": {
      "image/png": "[encoded data removed]",
      "text/plain": [
       "<Figure size 432x288 with 1 Axes>"
      ]
     },
     "metadata": {
      "needs_background": "light"
     },
     "output_type": "display_data"
    }
   ],
   "source": [
    "plt.scatter(lst1, lst2, s=10);\n",
    "plt.xlabel('lst1');\n",
    "plt.ylabel('lst2');\n",
    "\n",
    "plt.plot(lst1, y_predicted, color='r')\n",
    "plt.show()\n"
   ]
  },
  {
   "cell_type": "code",
   "execution_count": null,
   "metadata": {},
   "outputs": [],
   "source": []
  }
 ],
 "metadata": {
  "kernelspec": {
   "display_name": "Python 3",
   "language": "python",
   "name": "python3"
  },
  "language_info": {
   "codemirror_mode": {
    "name": "ipython",
    "version": 3
   },
   "file_extension": ".py",
   "mimetype": "text/x-python",
   "name": "python",
   "nbconvert_exporter": "python",
   "pygments_lexer": "ipython3",
   "version": "3.7.1"
  }
 },
 "nbformat": 4,
 "nbformat_minor": 2
}
