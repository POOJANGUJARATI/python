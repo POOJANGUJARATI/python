{
 "cells": [
  {
   "cell_type": "code",
   "execution_count": 1,
   "metadata": {},
   "outputs": [],
   "source": [
    "from pandas import DataFrame\n",
    "import matplotlib.pyplot as plt\n",
    "from sklearn.cluster import KMeans"
   ]
  },
  {
   "cell_type": "code",
   "execution_count": 11,
   "metadata": {},
   "outputs": [
    {
     "name": "stdout",
     "output_type": "stream",
     "text": [
      "     x   y\n",
      "0   10  93\n",
      "1   25  99\n",
      "2   66  45\n",
      "3   75  71\n",
      "4   78  36\n",
      "5   99  39\n",
      "6   40  31\n",
      "7   56  19\n",
      "8   68  28\n",
      "9   85  34\n",
      "10  88  45\n",
      "11  45  65\n"
     ]
    }
   ],
   "source": [
    "data={'x':[10,25,66,75,78,99,40,56,68,85,88,45],\n",
    "     'y':[93,99,45,71,36,39,31,19,28,34,45,65]};\n",
    "df=DataFrame(data,columns=['x','y']);\n",
    "print(df);"
   ]
  },
  {
   "cell_type": "code",
   "execution_count": 4,
   "metadata": {},
   "outputs": [
    {
     "name": "stdout",
     "output_type": "stream",
     "text": [
      "[[26.66666667 85.66666667]\n",
      " [72.77777778 38.66666667]]\n"
     ]
    }
   ],
   "source": [
    "f=DataFrame(data,columns=['x','y']);\n",
    "kmeans=KMeans(n_clusters=2).fit(df);\n",
    "\n",
    "centroids=kmeans.cluster_centers_\n",
    "print(centroids);"
   ]
  },
  {
   "cell_type": "code",
   "execution_count": 9,
   "metadata": {},
   "outputs": [
    {
     "data": {
      "image/png": "[encoded data removed]",
      "text/plain": [
       "<Figure size 432x288 with 1 Axes>"
      ]
     },
     "metadata": {
      "needs_background": "light"
     },
     "output_type": "display_data"
    }
   ],
   "source": [
    "plt.scatter(df['x'],df['y'],c=kmeans.labels_.astype(float),s = 120,alpha = .5);\n",
    "plt.scatter(centroids[:,0],centroids[:,1],c ='green',s = 120);"
   ]
  },
  {
   "cell_type": "code",
   "execution_count": null,
   "metadata": {},
   "outputs": [],
   "source": []
  }
 ],
 "metadata": {
  "kernelspec": {
   "display_name": "Python 3",
   "language": "python",
   "name": "python3"
  },
  "language_info": {
   "codemirror_mode": {
    "name": "ipython",
    "version": 3
   },
   "file_extension": ".py",
   "mimetype": "text/x-python",
   "name": "python",
   "nbconvert_exporter": "python",
   "pygments_lexer": "ipython3",
   "version": "3.7.1"
  }
 },
 "nbformat": 4,
 "nbformat_minor": 2
}
