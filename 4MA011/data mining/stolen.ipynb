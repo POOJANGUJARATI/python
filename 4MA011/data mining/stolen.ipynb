{
 "cells": [
  {
   "cell_type": "code",
   "execution_count": 8,
   "metadata": {},
   "outputs": [],
   "source": [
    "import pandas as pd ;\n",
    "from sklearn import preprocessing;\n",
    "from sklearn.naive_bayes import GaussianNB;"
   ]
  },
  {
   "cell_type": "code",
   "execution_count": 9,
   "metadata": {},
   "outputs": [
    {
     "name": "stdout",
     "output_type": "stream",
     "text": [
      "   no   color   typpe    origin stolen\n",
      "0   1     red  sports  domestic    yes\n",
      "1   2     red  sports  domestic     no\n",
      "2   3     red  sports  domestic    yes\n",
      "3   4  yellow  sports  domestic     no\n",
      "4   5  yellow  sports  imported    yes\n",
      "5   6  yellow     suv  imported     no\n",
      "6   7  yellow     suv  imported    yes\n",
      "7   8  yellow     suv  imported    yes\n",
      "8   9     red     suv  imported     no\n",
      "9  10     red  sports  imported    yes\n"
     ]
    }
   ],
   "source": [
    "data = pd.read_csv('stolen.csv');\n",
    "\n",
    "print(data);"
   ]
  },
  {
   "cell_type": "code",
   "execution_count": 10,
   "metadata": {},
   "outputs": [
    {
     "name": "stdout",
     "output_type": "stream",
     "text": [
      "[0 0 0 1 1 1 1 1 0 0]\n",
      "[0 0 0 0 0 1 1 1 1 0]\n",
      "[0 0 0 0 1 1 1 1 1 1]\n",
      "playing : [1 0 1 0 1 0 1 1 0 1]\n",
      "[(0, 0, 0), (0, 0, 0), (0, 0, 0), (1, 0, 0), (1, 0, 1), (1, 1, 1), (1, 1, 1), (1, 1, 1), (0, 1, 1), (0, 0, 1)]\n"
     ]
    }
   ],
   "source": [
    "color = data.color;\n",
    "typpe = data.typpe;\n",
    "origin = data.origin;\n",
    "stolen = data.stolen;\n",
    "\n",
    "le = preprocessing.LabelEncoder();\n",
    "\n",
    "color_encoded = le.fit_transform(color);\n",
    "print(color_encoded);\n",
    "\n",
    "typpe_encoded = le.fit_transform(typpe);\n",
    "print(typpe_encoded);\n",
    "\n",
    "origin_encoded = le.fit_transform(origin);\n",
    "print(origin_encoded);\n",
    "\n",
    "label = le.fit_transform(stolen);\n",
    "print(\"playing :\", label);\n",
    "\n",
    "\n",
    "features=zip(color_encoded,typpe_encoded,origin_encoded);\n",
    "features = list(features);\n",
    "\n",
    "print(list(features));\n"
   ]
  },
  {
   "cell_type": "code",
   "execution_count": 12,
   "metadata": {},
   "outputs": [
    {
     "name": "stdout",
     "output_type": "stream",
     "text": [
      "Predicted Value: [0]\n",
      "No\n"
     ]
    }
   ],
   "source": [
    "model = GaussianNB();\n",
    "\n",
    "model.fit(features,label);\n",
    "\n",
    "predicted= model.predict([[0,1,0]]); \n",
    "print (\"Predicted Value:\", predicted);\n",
    "\n",
    "if(predicted == [1]):\n",
    "    print(\"Yes\");\n",
    "else:\n",
    "    print(\"No\");"
   ]
  },
  {
   "cell_type": "code",
   "execution_count": null,
   "metadata": {},
   "outputs": [],
   "source": []
  }
 ],
 "metadata": {
  "kernelspec": {
   "display_name": "Python 3",
   "language": "python",
   "name": "python3"
  },
  "language_info": {
   "codemirror_mode": {
    "name": "ipython",
    "version": 3
   },
   "file_extension": ".py",
   "mimetype": "text/x-python",
   "name": "python",
   "nbconvert_exporter": "python",
   "pygments_lexer": "ipython3",
   "version": "3.7.1"
  }
 },
 "nbformat": 4,
 "nbformat_minor": 2
}
