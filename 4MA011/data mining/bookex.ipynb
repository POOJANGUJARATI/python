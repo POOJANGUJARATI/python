{
 "cells": [
  {
   "cell_type": "code",
   "execution_count": 1,
   "metadata": {},
   "outputs": [],
   "source": [
    "import numpy as np;\n",
    "import pandas as pd;\n",
    "import pyfpgrowth;"
   ]
  },
  {
   "cell_type": "code",
   "execution_count": 21,
   "metadata": {},
   "outputs": [],
   "source": [
    "dataset = [{'f','a','c','d','g','i','m','p'},\n",
    "          {'a','b','c','f','l','m','o'},\n",
    "          {'b','f','h','j','o','w'},\n",
    "          {'b','c','k','s','p'},\n",
    "          {'a','f','c','e','l','p','m','n'}]"
   ]
  },
  {
   "cell_type": "code",
   "execution_count": 22,
   "metadata": {},
   "outputs": [
    {
     "name": "stdout",
     "output_type": "stream",
     "text": [
      "No. of patterns found =  18\n",
      "{('p',): 3, ('c', 'p'): 3, ('a',): 3, ('a', 'f'): 3, ('a', 'c'): 3, ('a', 'c', 'f'): 3, ('m',): 3, ('a', 'm'): 3, ('f', 'm'): 3, ('c', 'm'): 3, ('a', 'f', 'm'): 3, ('a', 'c', 'm'): 3, ('c', 'f', 'm'): 3, ('a', 'c', 'f', 'm'): 3, ('b',): 3, ('c',): 4, ('f',): 4, ('c', 'f'): 3}\n"
     ]
    }
   ],
   "source": [
    "patterns = pyfpgrowth.find_frequent_patterns(dataset, 3);\n",
    "print(\"No. of patterns found = \", len(patterns));\n",
    "print(patterns);"
   ]
  },
  {
   "cell_type": "code",
   "execution_count": 23,
   "metadata": {},
   "outputs": [
    {
     "name": "stdout",
     "output_type": "stream",
     "text": [
      "No. of rules found = 15\n",
      "{('c',): (('f',), 0.75), ('p',): (('c',), 1.0), ('a',): (('c', 'f', 'm'), 1.0), ('f',): (('c',), 0.75), ('a', 'c'): (('f', 'm'), 1.0), ('a', 'f'): (('c', 'm'), 1.0), ('c', 'f'): (('a', 'm'), 1.0), ('m',): (('a', 'c', 'f'), 1.0), ('a', 'm'): (('c', 'f'), 1.0), ('f', 'm'): (('a', 'c'), 1.0), ('c', 'm'): (('a', 'f'), 1.0), ('a', 'c', 'f'): (('m',), 1.0), ('a', 'c', 'm'): (('f',), 1.0), ('a', 'f', 'm'): (('c',), 1.0), ('c', 'f', 'm'): (('a',), 1.0)}\n"
     ]
    }
   ],
   "source": [
    "rules = pyfpgrowth.generate_association_rules(patterns, 0.4)\n",
    "print(\"No. of rules found =\", len(rules));\n",
    "print(rules);"
   ]
  },
  {
   "cell_type": "code",
   "execution_count": null,
   "metadata": {},
   "outputs": [],
   "source": []
  }
 ],
 "metadata": {
  "kernelspec": {
   "display_name": "Python 3",
   "language": "python",
   "name": "python3"
  },
  "language_info": {
   "codemirror_mode": {
    "name": "ipython",
    "version": 3
   },
   "file_extension": ".py",
   "mimetype": "text/x-python",
   "name": "python",
   "nbconvert_exporter": "python",
   "pygments_lexer": "ipython3",
   "version": "3.7.1"
  }
 },
 "nbformat": 4,
 "nbformat_minor": 2
}
