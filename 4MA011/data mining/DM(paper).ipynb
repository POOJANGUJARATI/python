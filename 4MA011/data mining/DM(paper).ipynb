{
 "cells": [
  {
   "cell_type": "code",
   "execution_count": 1,
   "metadata": {},
   "outputs": [],
   "source": [
    "import numpy as np;\n",
    "import pandas as pd;\n",
    "import pyfpgrowth;"
   ]
  },
  {
   "cell_type": "code",
   "execution_count": 2,
   "metadata": {},
   "outputs": [],
   "source": [
    "dataset = [{'e','k','m','n','o','y'},\n",
    "          {'d','e','k','n','o','y'},\n",
    "          {'a','e','k','m'},\n",
    "          {'c','k','m','u','y'},\n",
    "          {'c','e','i','o','o'}]"
   ]
  },
  {
   "cell_type": "code",
   "execution_count": 3,
   "metadata": {},
   "outputs": [
    {
     "name": "stdout",
     "output_type": "stream",
     "text": [
      "No. of patterns found =  9\n"
     ]
    },
    {
     "data": {
      "text/plain": [
       "{('m',): 3,\n",
       " ('k', 'm'): 3,\n",
       " ('y',): 3,\n",
       " ('k', 'y'): 3,\n",
       " ('o',): 3,\n",
       " ('e', 'o'): 3,\n",
       " ('e',): 4,\n",
       " ('k',): 4,\n",
       " ('e', 'k'): 3}"
      ]
     },
     "execution_count": 3,
     "metadata": {},
     "output_type": "execute_result"
    }
   ],
   "source": [
    "patterns = pyfpgrowth.find_frequent_patterns(dataset, 3);\n",
    "print(\"No. of patterns found = \", len(patterns));\n",
    "patterns"
   ]
  },
  {
   "cell_type": "code",
   "execution_count": 4,
   "metadata": {},
   "outputs": [
    {
     "name": "stdout",
     "output_type": "stream",
     "text": [
      "No. of rules found = 5\n",
      "{('k',): (('e',), 0.75), ('m',): (('k',), 1.0), ('y',): (('k',), 1.0), ('e',): (('k',), 0.75), ('o',): (('e',), 1.0)}\n"
     ]
    }
   ],
   "source": [
    "rules = pyfpgrowth.generate_association_rules(patterns, 0.6)\n",
    "print(\"No. of rules found =\", len(rules));\n",
    "print(rules);"
   ]
  },
  {
   "cell_type": "code",
   "execution_count": null,
   "metadata": {},
   "outputs": [],
   "source": []
  }
 ],
 "metadata": {
  "kernelspec": {
   "display_name": "Python 3",
   "language": "python",
   "name": "python3"
  },
  "language_info": {
   "codemirror_mode": {
    "name": "ipython",
    "version": 3
   },
   "file_extension": ".py",
   "mimetype": "text/x-python",
   "name": "python",
   "nbconvert_exporter": "python",
   "pygments_lexer": "ipython3",
   "version": "3.7.1"
  }
 },
 "nbformat": 4,
 "nbformat_minor": 2
}
