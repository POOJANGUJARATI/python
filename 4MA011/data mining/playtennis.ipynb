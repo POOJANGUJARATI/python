{
 "cells": [
  {
   "cell_type": "code",
   "execution_count": 41,
   "metadata": {},
   "outputs": [],
   "source": [
    "import pandas ;\n",
    "from sklearn import preprocessing;\n",
    "from sklearn.naive_bayes import GaussianNB;"
   ]
  },
  {
   "cell_type": "code",
   "execution_count": 42,
   "metadata": {},
   "outputs": [
    {
     "name": "stdout",
     "output_type": "stream",
     "text": [
      "    day   outlook  temp humidity    wind play\n",
      "0    D1     Sunny   Hot     High    Weak   No\n",
      "1    D2     Sunny   Hot     High  Strong   No\n",
      "2    D3  Overcast   Hot     High    Weak  Yes\n",
      "3    D4      Rain  Mild     High    Weak  Yes\n",
      "4    D5      Rain  Cool   Normal    Weak  Yes\n",
      "5    D6      Rain  Cool   Normal  Strong   No\n",
      "6    D7  Overcast  Cool   Normal  Strong  Yes\n",
      "7    D8     Sunny  Mild     High    Weak   No\n",
      "8    D9     Sunny  Cool   Normal    Weak  Yes\n",
      "9   D10      Rain  Mild   Normal    Weak  Yes\n",
      "10  D11     Sunny  Mild   Normal  Strong  Yes\n",
      "11  D12  Overcast  Mild     High  Strong  Yes\n",
      "12  D13  Overcast   Hot   Normal    Weak  Yes\n",
      "13  D14      Rain  Mild     High  Strong   No\n"
     ]
    }
   ],
   "source": [
    "data = pandas.read_csv('tennis.csv');\n",
    "\n",
    "print(data);"
   ]
  },
  {
   "cell_type": "code",
   "execution_count": 43,
   "metadata": {},
   "outputs": [
    {
     "name": "stdout",
     "output_type": "stream",
     "text": [
      "[2 2 0 1 1 1 0 2 2 1 2 0 0 1]\n",
      "[1 1 1 2 0 0 0 2 0 2 2 2 1 2]\n",
      "playing : [0 0 1 1 1 0 1 0 1 1 1 1 1 0]\n",
      "[0 0 0 0 1 1 1 0 1 1 1 0 1 0]\n",
      "[1 0 1 1 1 0 0 1 1 1 0 0 1 0]\n",
      "[(2, 1, 0, 1), (2, 1, 0, 0), (0, 1, 0, 1), (1, 2, 0, 1), (1, 0, 1, 1), (1, 0, 1, 0), (0, 0, 1, 0), (2, 2, 0, 1), (2, 0, 1, 1), (1, 2, 1, 1), (2, 2, 1, 0), (0, 2, 0, 0), (0, 1, 1, 1), (1, 2, 0, 0)]\n"
     ]
    }
   ],
   "source": [
    "outlook = data.outlook\n",
    "temp = data.temp\n",
    "humidity = data.humidity\n",
    "wind = data.wind\n",
    "play = data.play\n",
    "\n",
    "le = preprocessing.LabelEncoder();\n",
    "outlook_encoded = le.fit_transform(outlook);\n",
    "\n",
    "print(outlook_encoded);\n",
    "temp_encoded=le.fit_transform(temp);\n",
    "#temp_encoded = le.fit_tranform(temp);\n",
    "\n",
    "print(temp_encoded);\n",
    "label = le.fit_transform(play);\n",
    "print(\"playing :\", label);\n",
    "\n",
    "humidity_encoded=le.fit_transform(humidity);\n",
    "wind_encoded=le.fit_transform(wind);\n",
    "\n",
    "print(humidity_encoded);\n",
    "print(wind_encoded);\n",
    "\n",
    "features=zip(outlook_encoded,temp_encoded,humidity_encoded,wind_encoded);\n",
    "features = list(features);\n",
    "\n",
    "print(list(features));\n"
   ]
  },
  {
   "cell_type": "code",
   "execution_count": 46,
   "metadata": {},
   "outputs": [
    {
     "name": "stdout",
     "output_type": "stream",
     "text": [
      "Predicted Value: [1]\n",
      "Yes\n"
     ]
    }
   ],
   "source": [
    "model = GaussianNB();\n",
    "\n",
    "model.fit(features,label);\n",
    "\n",
    "predicted= model.predict([[0,1,0,1]]); \n",
    "print (\"Predicted Value:\", predicted);\n",
    "\n",
    "if(predicted == [1]):\n",
    "    print(\"Yes\");\n",
    "else:\n",
    "    print(\"No\");"
   ]
  },
  {
   "cell_type": "code",
   "execution_count": null,
   "metadata": {},
   "outputs": [],
   "source": []
  }
 ],
 "metadata": {
  "kernelspec": {
   "display_name": "Python 3",
   "language": "python",
   "name": "python3"
  },
  "language_info": {
   "codemirror_mode": {
    "name": "ipython",
    "version": 3
   },
   "file_extension": ".py",
   "mimetype": "text/x-python",
   "name": "python",
   "nbconvert_exporter": "python",
   "pygments_lexer": "ipython3",
   "version": "3.7.1"
  }
 },
 "nbformat": 4,
 "nbformat_minor": 2
}
