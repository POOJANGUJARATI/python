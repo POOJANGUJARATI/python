{
 "cells": [
  {
   "cell_type": "code",
   "execution_count": 1,
   "metadata": {},
   "outputs": [],
   "source": [
    "import numpy as np;\n",
    "import pandas as pd;\n",
    "import pyfpgrowth;"
   ]
  },
  {
   "cell_type": "code",
   "execution_count": 6,
   "metadata": {},
   "outputs": [],
   "source": [
    "dataset = [{'Milk', 'Onion', 'Nutmeg', 'Kidney Beans', 'Eggs', 'Yogurt'},\n",
    "           {'Dill', 'Onion', 'Nutmeg', 'Kidney Beans', 'Eggs', 'Yogurt'},\n",
    "           {'Milk', 'Apple', 'Kidney Beans', 'Eggs'},\n",
    "           {'Milk', 'Unicorn', 'Corn', 'Kidney Beans', 'Yogurt'},\n",
    "           {'Corn', 'Onion', 'Onion', 'Kidney Beans', 'Ice cream', 'Eggs'}];"
   ]
  },
  {
   "cell_type": "code",
   "execution_count": 7,
   "metadata": {},
   "outputs": [
    {
     "name": "stdout",
     "output_type": "stream",
     "text": [
      "No. of patterns found =  3\n"
     ]
    },
    {
     "data": {
      "text/plain": [
       "{('Eggs',): 4, ('Kidney Beans',): 5, ('Eggs', 'Kidney Beans'): 4}"
      ]
     },
     "execution_count": 7,
     "metadata": {},
     "output_type": "execute_result"
    }
   ],
   "source": [
    "patterns = pyfpgrowth.find_frequent_patterns(dataset,4);\n",
    "# patterns = pyfpgrowth.find_frequent_patterns(dataset, 4);\n",
    "print(\"No. of patterns found = \", len(patterns));\n",
    "patterns"
   ]
  },
  {
   "cell_type": "code",
   "execution_count": 8,
   "metadata": {},
   "outputs": [
    {
     "name": "stdout",
     "output_type": "stream",
     "text": [
      "No. of rules found = 2\n"
     ]
    },
    {
     "data": {
      "text/plain": [
       "{('Eggs',): (('Kidney Beans',), 1.0), ('Kidney Beans',): (('Eggs',), 0.8)}"
      ]
     },
     "execution_count": 8,
     "metadata": {},
     "output_type": "execute_result"
    }
   ],
   "source": [
    "rules = pyfpgrowth.generate_association_rules(patterns, 0.7)\n",
    "print(\"No. of rules found =\", len(rules));\n",
    "rules"
   ]
  },
  {
   "cell_type": "code",
   "execution_count": null,
   "metadata": {},
   "outputs": [],
   "source": []
  }
 ],
 "metadata": {
  "kernelspec": {
   "display_name": "Python 3",
   "language": "python",
   "name": "python3"
  },
  "language_info": {
   "codemirror_mode": {
    "name": "ipython",
    "version": 3
   },
   "file_extension": ".py",
   "mimetype": "text/x-python",
   "name": "python",
   "nbconvert_exporter": "python",
   "pygments_lexer": "ipython3",
   "version": "3.7.1"
  }
 },
 "nbformat": 4,
 "nbformat_minor": 2
}
